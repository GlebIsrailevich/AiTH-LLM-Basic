{
 "cells": [
  {
   "cell_type": "code",
   "execution_count": 1,
   "metadata": {},
   "outputs": [],
   "source": [
    "import os\n",
    "\n",
    "os.environ['SB_AUTH_DATA']='NGE5NzJiMGUtYTM1MS00ZWRhLTk0NjctMTc5YTllOTdiYWRkOjE3MzRjMjM2LTRkYmMtNDdmZS1iNTgzLTQyOGQ2OTI3NWFiMw=='"
   ]
  },
  {
   "cell_type": "code",
   "execution_count": 2,
   "metadata": {},
   "outputs": [
    {
     "name": "stderr",
     "output_type": "stream",
     "text": [
      "c:\\Users\\gleba\\Python 3.11\\Lib\\site-packages\\urllib3\\connectionpool.py:1061: InsecureRequestWarning: Unverified HTTPS request is being made to host 'ngw.devices.sberbank.ru'. Adding certificate verification is strongly advised. See: https://urllib3.readthedocs.io/en/1.26.x/advanced-usage.html#ssl-warnings\n",
      "  warnings.warn(\n"
     ]
    }
   ],
   "source": [
    "import requests\n",
    "import uuid\n",
    "import json\n",
    "import os\n",
    "ca_cert_path = 'sertificates/russian_trusted_root_ca.cer'\n",
    "sb_auth_data = os.getenv('SB_AUTH_DATA')\n",
    "\n",
    "# Generate a UUID4\n",
    "unique_id = str(uuid.uuid4())\n",
    "url = \"https://ngw.devices.sberbank.ru:9443/api/v2/oauth\"\n",
    "\n",
    "payload='scope=GIGACHAT_API_PERS'\n",
    "headers = {\n",
    "  'Content-Type': 'application/x-www-form-urlencoded',\n",
    "  'Accept': 'application/json',\n",
    "  'RqUID': unique_id,\n",
    "  'Authorization': f'Basic {sb_auth_data}'\n",
    "}\n",
    "\n",
    "response = requests.request(\"POST\", url, headers=headers, data=payload, verify=False)\n",
    "access_token = json.loads(response.text)['access_token']"
   ]
  },
  {
   "cell_type": "code",
   "execution_count": 3,
   "metadata": {},
   "outputs": [],
   "source": [
    "auth_token = f\"Bearer {access_token}\""
   ]
  },
  {
   "cell_type": "code",
   "execution_count": 4,
   "metadata": {},
   "outputs": [
    {
     "data": {
      "text/plain": [
       "'Bearer eyJjdHkiOiJqd3QiLCJlbmMiOiJBMjU2Q0JDLUhTNTEyIiwiYWxnIjoiUlNBLU9BRVAtMjU2In0.A3Pzf0tvtBfoQJFCKUUgKVcVrkoJTamSejFt7InNSddbYsLe217lCI-XUpVn8uOeYr7G3mZTnCukffo8mQWDyCz4LjaJuxmItI_l8jChDo2nt5lfQmR61jTGPYEsb8kggL6C7e2E5hg_32MHC-4vF9B0Tl9Ld24sYKOHd-MPAiWmdUxb-WLB2EG7DoQNg0jFyGDjmYXwnshfRr4dWWODE-zNIE3wGwmCcLsScjvh6tWd2rlZZKbQmuSMLbhzFTmZXsTi9crZjuBp6W3cM3xSAJov1fR3Gx72KWl-5Cn0FdBK96TJe8D_PxK35gouNTBZEgkOY8T0-leXHbMOzOULsQ.LUPVDfdhz8HaOlhhdYXxcw.wo0FQ0NOUfVlPl24c2KulBbUf-ZyWz1U_ZlrYI2Ukdp_Ski3a42PYXUfs3JtV8_2COSztEn6Ntk-R6FOrKH29ydN4GACQLjQ3IKBMYh1t9cA3P6KwF6he_7yB7rbNobzxmUDukkDoIB2xvlcxuyM5FY-ZSAbAzkacjvXRs6YIIUaQt0o5PnwcdW7RsfWh1HOpjAJTMBbYCG5Vx8M9-GITMjF0a8L6G97gBm8ETwTFXqB8nZy3Ypr9QqrSwINvsTbPGX0Nsq_uiaWOwJm0PfIejBBUArAFTXa3D8wdzuYZ1O834SuEQR5YpWIwT8OAeYON6RNtERPRlzvlqqiblSkTMDZutODcl2zgNp5w5d9lPiLr34KdRh1rx32OAP2IZSJgQeVHNM9oklL4jmqsV6Uk-pgUwXwerH24_Kftzp4hsfiMoWsOtLE6JdRleacKyv_dUtbOAfnIa6Ea-TyFKXW7GSeHTjebkvmRUpVdzoUSYerE54hN_Z8lRiyBH4IvlRqrY3Hszyaanpr8nSKnPfvyAjQzFgL391cetfSOkZX53baU5qYJrM-wYH1NK1KrkOivVuB_osK2YX8z6fBHxSoNbR_ZkMqqDTb8ASZAW1MSBkmPDIFD2qSHFUg5z3uqZ0B8aXt58PqWGutrbPXJRiKPUxzn39W72oP1R-y7t_s1ddgcXBjnMoHJ9TOipHnf_ZkUswoWqDP4tTcekVIWAjKkYIezdNAxeDOfbSMPZuIQ7k.xjatJsS-quR8HDj15G5rMWg-1subDubZ2jRysMl-iIs'"
      ]
     },
     "execution_count": 4,
     "metadata": {},
     "output_type": "execute_result"
    }
   ],
   "source": [
    "\n",
    "auth_token"
   ]
  },
  {
   "cell_type": "code",
   "execution_count": 5,
   "metadata": {},
   "outputs": [],
   "source": [
    "def invoke_gigachat(messages, model=\"GigaChat\", raw=True, auth_token=auth_token, ca_cert_path=ca_cert_path):\n",
    "    url = \"https://gigachat.devices.sberbank.ru/api/v1/chat/completions\"\n",
    "\n",
    "    payload = json.dumps({\n",
    "        \"model\": model,\n",
    "        \"messages\": messages,\n",
    "        \"stream\": False,\n",
    "        \"repetition_penalty\": 1\n",
    "    })\n",
    "\n",
    "    headers = {\n",
    "        'Content-Type': 'application/json',\n",
    "        'Accept': 'application/json',\n",
    "        'Authorization': auth_token\n",
    "    }\n",
    "\n",
    "    try:\n",
    "        response = requests.request(\"POST\", url, headers=headers, data=payload, verify=False)\n",
    "        # Check if the HTTP response status code is 200 (OK)\n",
    "        if response.status_code == 200:\n",
    "            if raw:\n",
    "                return response\n",
    "            else:\n",
    "                msg = json.loads(response.text)['choices'][0]['message']\n",
    "                return msg\n",
    "        else:\n",
    "            # Handle non-200 responses\n",
    "            return f\"Error: Server returned status code {response.status_code}\"\n",
    "    except requests.RequestException as e:\n",
    "        # Handle exceptions that may occur during the request\n",
    "        return f\"Request failed: {str(e)}\"\n",
    "\n",
    "invoke_func = invoke_gigachat"
   ]
  },
  {
   "cell_type": "code",
   "execution_count": 6,
   "metadata": {},
   "outputs": [
    {
     "name": "stderr",
     "output_type": "stream",
     "text": [
      "c:\\Users\\gleba\\Python 3.11\\Lib\\site-packages\\urllib3\\connectionpool.py:1061: InsecureRequestWarning: Unverified HTTPS request is being made to host 'gigachat.devices.sberbank.ru'. Adding certificate verification is strongly advised. See: https://urllib3.readthedocs.io/en/1.26.x/advanced-usage.html#ssl-warnings\n",
      "  warnings.warn(\n"
     ]
    },
    {
     "data": {
      "text/plain": [
       "{'choices': [{'message': {'content': 'The heaviest hippo ever recorded was Kwashiorkor, who lived in the late 19th century. He weighed an estimated 4,000 pounds (1,814 kg) when he was alive.',\n",
       "    'role': 'assistant'},\n",
       "   'index': 0,\n",
       "   'finish_reason': 'stop'}],\n",
       " 'created': 1728770562,\n",
       " 'model': 'GigaChat:3.1.25.3',\n",
       " 'object': 'chat.completion',\n",
       " 'usage': {'prompt_tokens': 21, 'completion_tokens': 51, 'total_tokens': 72}}"
      ]
     },
     "execution_count": 6,
     "metadata": {},
     "output_type": "execute_result"
    }
   ],
   "source": [
    "text = \"Who is the heaviest hippo of all time?\"\n",
    "user_msg = {\n",
    "    'content': text,\n",
    "    'role': 'user',\n",
    "}\n",
    "model_responce = invoke_func(messages=[user_msg])\n",
    "\n",
    "json.loads(model_responce.text)"
   ]
  },
  {
   "cell_type": "code",
   "execution_count": 7,
   "metadata": {},
   "outputs": [
    {
     "name": "stderr",
     "output_type": "stream",
     "text": [
      "c:\\Users\\gleba\\Python 3.11\\Lib\\site-packages\\urllib3\\connectionpool.py:1061: InsecureRequestWarning: Unverified HTTPS request is being made to host 'gigachat.devices.sberbank.ru'. Adding certificate verification is strongly advised. See: https://urllib3.readthedocs.io/en/1.26.x/advanced-usage.html#ssl-warnings\n",
      "  warnings.warn(\n"
     ]
    },
    {
     "data": {
      "text/plain": [
       "[{'content': 'Who is the heaviest hippo of all time?', 'role': 'user'},\n",
       " {'content': 'The heaviest hippo ever recorded was a male named Khula, who lived in the wild in Zimbabwe. He weighed an estimated 1,840 kilograms (4,070 pounds) when he was alive.',\n",
       "  'role': 'assistant'}]"
      ]
     },
     "execution_count": 7,
     "metadata": {},
     "output_type": "execute_result"
    }
   ],
   "source": [
    "str_memory = []\n",
    "\n",
    "model_msg = invoke_func(messages=[user_msg], raw=False)\n",
    "str_memory.extend([user_msg, model_msg])\n",
    "str_memory"
   ]
  },
  {
   "cell_type": "code",
   "execution_count": 8,
   "metadata": {},
   "outputs": [
    {
     "name": "stderr",
     "output_type": "stream",
     "text": [
      "c:\\Users\\gleba\\Python 3.11\\Lib\\site-packages\\urllib3\\connectionpool.py:1061: InsecureRequestWarning: Unverified HTTPS request is being made to host 'gigachat.devices.sberbank.ru'. Adding certificate verification is strongly advised. See: https://urllib3.readthedocs.io/en/1.26.x/advanced-usage.html#ssl-warnings\n",
      "  warnings.warn(\n"
     ]
    }
   ],
   "source": [
    "new_user_msg = {\n",
    "    'content': \"What other the most heavy animals do you know?\",\n",
    "    'role': 'user',\n",
    "}\n",
    "str_memory.append(new_user_msg)\n",
    "\n",
    "model_msg = invoke_func(messages=str_memory, raw=False)"
   ]
  },
  {
   "cell_type": "code",
   "execution_count": 9,
   "metadata": {},
   "outputs": [
    {
     "data": {
      "text/plain": [
       "{'content': 'The second heaviest animal ever recorded was a female named Tonga, who also lived in Zimbabwe. She weighed an estimated 1,500 kilograms (3,300 pounds) when she was alive.\\n\\nOther heavy animals include the African bush elephant, which can weigh up to 6,000 pounds (2,722 kilograms) and the Asian elephant, which can weigh up to 12,000 pounds (5,443 kilograms).',\n",
       " 'role': 'assistant'}"
      ]
     },
     "execution_count": 9,
     "metadata": {},
     "output_type": "execute_result"
    }
   ],
   "source": [
    "model_msg"
   ]
  },
  {
   "cell_type": "code",
   "execution_count": 10,
   "metadata": {},
   "outputs": [],
   "source": [
    "from langchain.chat_models.gigachat import GigaChat\n",
    "\n",
    "giga_key = sb_auth_data\n",
    "\n",
    "giga = GigaChat(credentials=giga_key,\n",
    "                model=\"GigaChat\", timeout=30, verify_ssl_certs=False)\n",
    "giga.verbose = False"
   ]
  },
  {
   "cell_type": "code",
   "execution_count": 11,
   "metadata": {},
   "outputs": [
    {
     "name": "stdout",
     "output_type": "stream",
     "text": [
      "Prompt:\n",
      "\n",
      "Which number is larger: 9.8 or 9.12?\n",
      "\n",
      "\n",
      "Model answer:\n",
      "The number that is larger is 9.8.\n",
      "\n"
     ]
    }
   ],
   "source": [
    "from langchain.schema import HumanMessage, SystemMessage\n",
    "\n",
    "classic_prompt = \"\"\"\n",
    "Which number is larger: 9.8 or 9.12?\n",
    "\"\"\"\n",
    "\n",
    "response = giga.invoke([HumanMessage(content=classic_prompt)])\n",
    "print(f\"Prompt:\\n{classic_prompt}\\n\\nModel answer:\\n{response.content}\\n\")"
   ]
  },
  {
   "cell_type": "code",
   "execution_count": null,
   "metadata": {},
   "outputs": [],
   "source": []
  }
 ],
 "metadata": {
  "kernelspec": {
   "display_name": "Python 3",
   "language": "python",
   "name": "python3"
  },
  "language_info": {
   "codemirror_mode": {
    "name": "ipython",
    "version": 3
   },
   "file_extension": ".py",
   "mimetype": "text/x-python",
   "name": "python",
   "nbconvert_exporter": "python",
   "pygments_lexer": "ipython3",
   "version": "3.11.5"
  }
 },
 "nbformat": 4,
 "nbformat_minor": 2
}
